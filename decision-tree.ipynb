{
 "cells": [
  {
   "cell_type": "code",
   "execution_count": 1,
   "metadata": {},
   "outputs": [],
   "source": [
    "%load_ext Cython"
   ]
  },
  {
   "cell_type": "code",
   "execution_count": 3,
   "metadata": {},
   "outputs": [],
   "source": [
    "%%cython\n",
    "import numpy as np\n",
    "cimport numpy as np\n",
    "from numpy cimport ndarray, float64_t, int_t\n",
    "cimport cython\n",
    "\n",
    "#@cython.boundscheck(False)\n",
    "#@cython.cdivision(True)\n",
    "cpdef double gini_index(ndarray[float64_t, ndim=2] left, ndarray[float64_t, ndim=2] right):\n",
    "    cdef:\n",
    "        double purity = 0.0\n",
    "        ndarray[float64_t, ndim=2] split\n",
    "        ndarray[int_t, ndim=1] class_counts\n",
    "        ndarray[int_t, ndim=1] unique_classes\n",
    "        double class_ratio\n",
    "        int total_classes, i, bi\n",
    "    \n",
    "    for bi in range(2):\n",
    "        if bi == 0:\n",
    "            split = left\n",
    "        else:\n",
    "            split = right\n",
    "        \n",
    "        class_counts = np.bincount(split[:, -1].astype('int'))\n",
    "        unique_classes = np.array(np.nonzero(class_counts))[0]\n",
    "        \n",
    "        for i in range(unique_classes.shape[0]):\n",
    "            class_ratio = class_counts[unique_classes[i]] / split.shape[0]\n",
    "            purity += class_ratio * (1 - class_ratio)\n",
    "    \n",
    "    return purity"
   ]
  },
  {
   "cell_type": "code",
   "execution_count": 4,
   "metadata": {},
   "outputs": [
    {
     "data": {
      "text/plain": [
       "0.4444444444444445"
      ]
     },
     "execution_count": 4,
     "metadata": {},
     "output_type": "execute_result"
    }
   ],
   "source": [
    "gini_index(np.array([[1.5, 2.1, 3.8, 2.0], [2.0, 4.0, 4.0, 2.0], [3.0, 6.0, 4.0, 3.0]], dtype=np.float64), np.array([[10.0, 12.0, 14.0, 4.0], [12.0, 13.0, 9.0, 4.0], [18.0, 34.0, 12.0, 4.0]], dtype=np.float64))"
   ]
  },
  {
   "cell_type": "code",
   "execution_count": null,
   "metadata": {},
   "outputs": [],
   "source": []
  }
 ],
 "metadata": {
  "kernelspec": {
   "display_name": "Python 3",
   "language": "python",
   "name": "python3"
  },
  "language_info": {
   "codemirror_mode": {
    "name": "ipython",
    "version": 3
   },
   "file_extension": ".py",
   "mimetype": "text/x-python",
   "name": "python",
   "nbconvert_exporter": "python",
   "pygments_lexer": "ipython3",
   "version": "3.6.4"
  }
 },
 "nbformat": 4,
 "nbformat_minor": 2
}
